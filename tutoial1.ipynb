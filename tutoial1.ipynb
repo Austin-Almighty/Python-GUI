{
 "cells": [
  {
   "cell_type": "code",
   "execution_count": 6,
   "metadata": {},
   "outputs": [],
   "source": [
    "import tkinter as tk\n",
    "from tkinter import ttk"
   ]
  },
  {
   "cell_type": "code",
   "execution_count": 7,
   "metadata": {},
   "outputs": [
    {
     "data": {
      "text/plain": [
       "''"
      ]
     },
     "execution_count": 7,
     "metadata": {},
     "output_type": "execute_result"
    }
   ],
   "source": [
    "# Create a window\n",
    "window = tk.Tk() # Call a window and store it in a variable (window)\n",
    "window.title('Demo') # Give the windows a title\n",
    "window.geometry('300x300') #Set the size of the window (300x150)"
   ]
  },
  {
   "cell_type": "code",
   "execution_count": 8,
   "metadata": {},
   "outputs": [],
   "source": [
    "#Create the first widget\n",
    "#title\n",
    "#label means text in tkinter\n",
    "title_label = ttk.Label(master = window, text='Time Zone Converter', font= 'Calibri 24 bold') #Arguments: Master (the parent, the housing container) Text (the text to display), font(font and fontsize in the same string)\n",
    "# tkinter has several ways to put widgets in the window. The simplest way is to use pack () method\n",
    "title_label.pack()"
   ]
  },
  {
   "cell_type": "code",
   "execution_count": 9,
   "metadata": {},
   "outputs": [],
   "source": [
    "#Input field (two widgets in a larger container)\n",
    "input_frame = ttk.Frame(master = window)\n",
    "entry = ttk.Entry(master = input_frame)\n",
    "button = ttk.Button(master= input_frame, text='Convert')\n",
    "\n",
    "entry.pack(side='left') #without the side argument, the two objects will be oriented horizontally\n",
    "button.pack(side=\"left\") #place the entry and button widgets into input_frame\n",
    "input_frame.pack()\n"
   ]
  },
  {
   "cell_type": "code",
   "execution_count": 10,
   "metadata": {},
   "outputs": [],
   "source": [
    "# Main Loop (Run)\n",
    "\n",
    "window.mainloop() #mainloop function will gives us a basic pop-up window"
   ]
  }
 ],
 "metadata": {
  "kernelspec": {
   "display_name": "tkinter",
   "language": "python",
   "name": "python3"
  },
  "language_info": {
   "codemirror_mode": {
    "name": "ipython",
    "version": 3
   },
   "file_extension": ".py",
   "mimetype": "text/x-python",
   "name": "python",
   "nbconvert_exporter": "python",
   "pygments_lexer": "ipython3",
   "version": "3.12.4"
  }
 },
 "nbformat": 4,
 "nbformat_minor": 2
}
