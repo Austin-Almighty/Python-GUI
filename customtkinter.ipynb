{
 "cells": [
  {
   "cell_type": "code",
   "execution_count": 1,
   "metadata": {},
   "outputs": [],
   "source": [
    "from customtkinter import *"
   ]
  },
  {
   "cell_type": "code",
   "execution_count": null,
   "metadata": {},
   "outputs": [],
   "source": [
    "app = CTk()\n",
    "app.geometry(\"500x400\")\n",
    "\n",
    "set_default_color_theme(\"green\")"
   ]
  },
  {
   "cell_type": "code",
   "execution_count": null,
   "metadata": {},
   "outputs": [],
   "source": [
    "CTkButton(master=app, text=\"Button\").pack(pady=20, padx=20)\n",
    "CTkCheckBox(master=app, text=\"Check box\").pack(pady=20, padx=20)\n",
    "CTkComboBox(master=app, values=[\"Option 1\", \"Option 2\", \"Option 3\"]).pack(pady=20, padx=20)\n",
    "CTkEntry(master=app, placeholder_text=\"Start typing...\").pack(pady=20, padx=20)\n",
    "CTkProgressBar(master=app).pack(pady=20, padx=20)\n",
    "CTkRadioButton(master=app, text=\"Radio button\").pack(pady=20, padx=20)\n",
    "CTkSlider(master=app).pack(pady=20, padx=20)\n",
    "CTkSwitch(master=app, text=\"Option\").pack(pady=20, padx=20)"
   ]
  },
  {
   "cell_type": "code",
   "execution_count": null,
   "metadata": {},
   "outputs": [],
   "source": [
    "app.mainloop()"
   ]
  }
 ],
 "metadata": {
  "kernelspec": {
   "display_name": "app",
   "language": "python",
   "name": "python3"
  },
  "language_info": {
   "codemirror_mode": {
    "name": "ipython",
    "version": 3
   },
   "file_extension": ".py",
   "mimetype": "text/x-python",
   "name": "python",
   "nbconvert_exporter": "python",
   "pygments_lexer": "ipython3",
   "version": "3.12.5"
  }
 },
 "nbformat": 4,
 "nbformat_minor": 2
}
