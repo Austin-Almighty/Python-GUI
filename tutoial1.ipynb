{
 "cells": [
  {
   "cell_type": "code",
   "execution_count": 1,
   "metadata": {},
   "outputs": [],
   "source": [
    "import tkinter as tk\n",
    "# from tkinter import ttk\n",
    "import ttkbootstrap as ttk #ttkbootstrap adds more styling options"
   ]
  },
  {
   "cell_type": "code",
   "execution_count": 2,
   "metadata": {},
   "outputs": [],
   "source": [
    "#Miles to kilometers\n",
    "#define the convert function\n",
    "# Be careful not to call this function. \n",
    "def convert():\n",
    "    mile_input = entry_int.get()\n",
    "    km_output = mile_input * 1.61\n",
    "\n",
    "    output_string.set(km_output)\n"
   ]
  },
  {
   "cell_type": "code",
   "execution_count": 3,
   "metadata": {},
   "outputs": [
    {
     "data": {
      "text/plain": [
       "''"
      ]
     },
     "execution_count": 3,
     "metadata": {},
     "output_type": "execute_result"
    }
   ],
   "source": [
    "# Create a window\n",
    "window = ttk.Window(themename = 'darkly') # Call a window and store it in a variable (window; choose a theme with themename (only available with ttkbootstrap) e.g. 'journal'\n",
    "window.title('Demo') # Give the windows a title\n",
    "window.geometry('300x300') #Set the size of the window (300x150)"
   ]
  },
  {
   "cell_type": "code",
   "execution_count": 4,
   "metadata": {},
   "outputs": [],
   "source": [
    "#Create the first widget\n",
    "#title\n",
    "#label means text in tkinter\n",
    "title_label = ttk.Label(master = window, text='Miles to kilometers', font= 'Calibri 24 bold') #Arguments: Master (the parent, the housing container) Text (the text to display), font(font and fontsize in the same string)\n",
    "# tkinter has several ways to put widgets in the window. The simplest way is to use pack () method\n",
    "title_label.pack()"
   ]
  },
  {
   "cell_type": "code",
   "execution_count": 5,
   "metadata": {},
   "outputs": [],
   "source": [
    "#Input field (two widgets in a larger container)\n",
    "input_frame = ttk.Frame(master = window)\n",
    "#Capture and hold the input\n",
    "entry_int = tk.IntVar() #store a integer; remember to call this function.\n",
    "entry = ttk.Entry(master = input_frame, textvariable= entry_int) #text\n",
    "button = ttk.Button(master= input_frame, text='Convert', command = convert) #pass on a user-defined function\n",
    "\n",
    "entry.pack(side='left', padx=10) #without the side argument, the two objects will be oriented horizontally. padx, pady add padding.\n",
    "button.pack(side=\"left\") #place the entry and button widgets into input_frame\n",
    "input_frame.pack(pady=10)\n"
   ]
  },
  {
   "cell_type": "code",
   "execution_count": 6,
   "metadata": {},
   "outputs": [],
   "source": [
    "#output field\n",
    "output_string = tk.StringVar() #this function stores a string\n",
    "output_label = ttk.Label(master=window, text='Local time', font='Calibri 24 bold', textvariable= output_string)\n",
    "output_label.pack(pady=5)"
   ]
  },
  {
   "cell_type": "code",
   "execution_count": 7,
   "metadata": {},
   "outputs": [
    {
     "name": "stderr",
     "output_type": "stream",
     "text": [
      "2024-08-23 20:31:32.697 python[68193:944662] TSM AdjustCapsLockLEDForKeyTransitionHandling - _ISSetPhysicalKeyboardCapsLockLED Inhibit\n",
      "Exception in Tkinter callback\n",
      "Traceback (most recent call last):\n",
      "  File \"/Users/austinliao/anaconda3/envs/tkinter/lib/python3.12/tkinter/__init__.py\", line 595, in get\n",
      "    return self._tk.getint(value)\n",
      "           ^^^^^^^^^^^^^^^^^^^^^^\n",
      "_tkinter.TclError: expected integer but got \"ji\"\n",
      "\n",
      "During handling of the above exception, another exception occurred:\n",
      "\n",
      "Traceback (most recent call last):\n",
      "  File \"/Users/austinliao/anaconda3/envs/tkinter/lib/python3.12/tkinter/__init__.py\", line 1968, in __call__\n",
      "    return self.func(*args)\n",
      "           ^^^^^^^^^^^^^^^^\n",
      "  File \"/var/folders/b2/0sdtxrc91tzbvsqjxbq9xgrw0000gn/T/ipykernel_68193/2068285127.py\", line 5, in convert\n",
      "    mile_input = entry_int.get()\n",
      "                 ^^^^^^^^^^^^^^^\n",
      "  File \"/Users/austinliao/anaconda3/envs/tkinter/lib/python3.12/tkinter/__init__.py\", line 597, in get\n",
      "    return int(self._tk.getdouble(value))\n",
      "               ^^^^^^^^^^^^^^^^^^^^^^^^^\n",
      "_tkinter.TclError: expected floating-point number but got \"ji\"\n",
      "Exception in Tkinter callback\n",
      "Traceback (most recent call last):\n",
      "  File \"/Users/austinliao/anaconda3/envs/tkinter/lib/python3.12/tkinter/__init__.py\", line 595, in get\n",
      "    return self._tk.getint(value)\n",
      "           ^^^^^^^^^^^^^^^^^^^^^^\n",
      "_tkinter.TclError: expected integer but got \"ji\"\n",
      "\n",
      "During handling of the above exception, another exception occurred:\n",
      "\n",
      "Traceback (most recent call last):\n",
      "  File \"/Users/austinliao/anaconda3/envs/tkinter/lib/python3.12/tkinter/__init__.py\", line 1968, in __call__\n",
      "    return self.func(*args)\n",
      "           ^^^^^^^^^^^^^^^^\n",
      "  File \"/var/folders/b2/0sdtxrc91tzbvsqjxbq9xgrw0000gn/T/ipykernel_68193/2068285127.py\", line 5, in convert\n",
      "    mile_input = entry_int.get()\n",
      "                 ^^^^^^^^^^^^^^^\n",
      "  File \"/Users/austinliao/anaconda3/envs/tkinter/lib/python3.12/tkinter/__init__.py\", line 597, in get\n",
      "    return int(self._tk.getdouble(value))\n",
      "               ^^^^^^^^^^^^^^^^^^^^^^^^^\n",
      "_tkinter.TclError: expected floating-point number but got \"ji\"\n",
      "Exception in Tkinter callback\n",
      "Traceback (most recent call last):\n",
      "  File \"/Users/austinliao/anaconda3/envs/tkinter/lib/python3.12/tkinter/__init__.py\", line 595, in get\n",
      "    return self._tk.getint(value)\n",
      "           ^^^^^^^^^^^^^^^^^^^^^^\n",
      "_tkinter.TclError: expected integer but got \"ji\"\n",
      "\n",
      "During handling of the above exception, another exception occurred:\n",
      "\n",
      "Traceback (most recent call last):\n",
      "  File \"/Users/austinliao/anaconda3/envs/tkinter/lib/python3.12/tkinter/__init__.py\", line 1968, in __call__\n",
      "    return self.func(*args)\n",
      "           ^^^^^^^^^^^^^^^^\n",
      "  File \"/var/folders/b2/0sdtxrc91tzbvsqjxbq9xgrw0000gn/T/ipykernel_68193/2068285127.py\", line 5, in convert\n",
      "    mile_input = entry_int.get()\n",
      "                 ^^^^^^^^^^^^^^^\n",
      "  File \"/Users/austinliao/anaconda3/envs/tkinter/lib/python3.12/tkinter/__init__.py\", line 597, in get\n",
      "    return int(self._tk.getdouble(value))\n",
      "               ^^^^^^^^^^^^^^^^^^^^^^^^^\n",
      "_tkinter.TclError: expected floating-point number but got \"ji\"\n"
     ]
    }
   ],
   "source": [
    "# Main Loop (Run)\n",
    "\n",
    "window.mainloop() #mainloop function will gives us a basic pop-up window"
   ]
  }
 ],
 "metadata": {
  "kernelspec": {
   "display_name": "tkinter",
   "language": "python",
   "name": "python3"
  },
  "language_info": {
   "codemirror_mode": {
    "name": "ipython",
    "version": 3
   },
   "file_extension": ".py",
   "mimetype": "text/x-python",
   "name": "python",
   "nbconvert_exporter": "python",
   "pygments_lexer": "ipython3",
   "version": "3.12.4"
  }
 },
 "nbformat": 4,
 "nbformat_minor": 2
}
